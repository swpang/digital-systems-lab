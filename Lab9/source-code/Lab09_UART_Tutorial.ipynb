{
 "cells": [
  {
   "cell_type": "markdown",
   "metadata": {},
   "source": [
    "# Lab 09. UART Communication Tutorial"
   ]
  },
  {
   "cell_type": "markdown",
   "metadata": {},
   "source": [
    "First import library for this Lab."
   ]
  },
  {
   "cell_type": "code",
   "execution_count": 3,
   "metadata": {
    "scrolled": true
   },
   "outputs": [],
   "source": [
    "import glob\n",
    "import platform\n",
    "import numpy as np\n",
    "import time\n",
    "import serial\n",
    "from scale_uart import *"
   ]
  },
  {
   "cell_type": "markdown",
   "metadata": {},
   "source": [
    "## How to use the UART communications\n",
    "Explanation of UART: Please refer the following site.  \n",
    "https://en.wikipedia.org/wiki/Universal_asynchronous_receiver-transmitter  \n",
    "\n",
    "Then, how to use UART in python?"
   ]
  },
  {
   "cell_type": "code",
   "execution_count": 4,
   "metadata": {},
   "outputs": [],
   "source": [
    "def port_list():\n",
    "    os_name = platform.system()\n",
    "    if \"Windows\" in os_name:\n",
    "        print(\"Current OS: Windows\")\n",
    "        ports = ['COM%s' %(i+1) for i in range(256)]\n",
    "    elif \"Linux\"in os_name:\n",
    "        print(\"Current OS: Linux\")\n",
    "        ports = glob.glob('/dev/tty[A-Za-z]*')\n",
    "    elif \"Darwin\" in os_name:\n",
    "        print(\"Current OS: Mac\")\n",
    "        ports = glob.glob('/dev/tty.*')\n",
    "    result = []\n",
    "    for p in ports:\n",
    "        try:\n",
    "            s = serial.Serial(p)\n",
    "            s.close()\n",
    "            result.append(p)\n",
    "        except (OSError, serial.SerialException):\n",
    "            pass\n",
    "    print(result)\n",
    "    return result"
   ]
  },
  {
   "cell_type": "code",
   "execution_count": 5,
   "metadata": {},
   "outputs": [
    {
     "name": "stdout",
     "output_type": "stream",
     "text": [
      "Current OS: Windows\n",
      "['COM1', 'COM5']\n"
     ]
    }
   ],
   "source": [
    "plist = port_list()"
   ]
  },
  {
   "cell_type": "markdown",
   "metadata": {},
   "source": [
    "Now you can use above results list to correct your appropriate serial port.  \n",
    "May one port\n",
    "Please refer the following sites to get more information.  \n",
    "https://reference.digilentinc.com/reference/programmable-logic/nexys-4-ddr/reference-manual#usb-uart_bridge_serial_port  \n",
    "\n",
    "There may be 2 USB-serial ports. One is for transmitting and the other is for receiving.  \n",
    "\n",
    "### And please refer the following site for more detailed information about pyserial Python-serial communication API.  \n",
    "https://pyserial.readthedocs.io/en/latest/pyserial_api.html"
   ]
  },
  {
   "cell_type": "code",
   "execution_count": 6,
   "metadata": {
    "scrolled": true
   },
   "outputs": [
    {
     "name": "stdout",
     "output_type": "stream",
     "text": [
      "COM1 port cannot be connected.\n",
      "COM5 port connected!\n"
     ]
    }
   ],
   "source": [
    "# Fisrt, Set the connection configuration and Port\n",
    "# PORT-name may be vary depending on your systems.\n",
    "# USE USB serial port.\n",
    "\n",
    "PORT_NAME = 'COM7'\n",
    "for pname in plist:\n",
    "    try:\n",
    "        SU = Scale_UART(str(pname))\n",
    "        print(\"%s port connected!\" %(pname))\n",
    "        break\n",
    "    except serial.SerialException:\n",
    "        print(\"%s port cannot be connected.\" %(pname))"
   ]
  },
  {
   "cell_type": "markdown",
   "metadata": {},
   "source": [
    "## Flush the input and output buffer"
   ]
  },
  {
   "cell_type": "code",
   "execution_count": 7,
   "metadata": {},
   "outputs": [],
   "source": [
    "SU.su_flush_buffer()"
   ]
  },
  {
   "cell_type": "code",
   "execution_count": 8,
   "metadata": {},
   "outputs": [],
   "source": [
    "np.random.seed(int(time.time()))"
   ]
  },
  {
   "cell_type": "markdown",
   "metadata": {},
   "source": [
    "## Write data"
   ]
  },
  {
   "cell_type": "code",
   "execution_count": 9,
   "metadata": {},
   "outputs": [
    {
     "name": "stdout",
     "output_type": "stream",
     "text": [
      "[116, 54, 107, 153, 106, 242, 160, 152]\n"
     ]
    }
   ],
   "source": [
    "packet = []\n",
    "for i in range(8):\n",
    "    packet.append(np.random.randint(256))\n",
    "print(packet)"
   ]
  },
  {
   "cell_type": "code",
   "execution_count": 10,
   "metadata": {},
   "outputs": [],
   "source": [
    "# SU.snd_packet(packet)"
   ]
  },
  {
   "cell_type": "code",
   "execution_count": 11,
   "metadata": {},
   "outputs": [
    {
     "name": "stdout",
     "output_type": "stream",
     "text": [
      "Packet[0]:\tDecimal value: 116, Bin val: 01110100\n"
     ]
    }
   ],
   "source": [
    "SU.snd_byte(packet[0])\n",
    "print(\"Packet[0]:\\tDecimal value: %d, Bin val: %s\" %(packet[0], f'{packet[0]:08b}'))"
   ]
  },
  {
   "cell_type": "code",
   "execution_count": 12,
   "metadata": {},
   "outputs": [
    {
     "name": "stdout",
     "output_type": "stream",
     "text": [
      "Packet[1]:\tDecimal value: 54, Bin val: 00110110\n"
     ]
    }
   ],
   "source": [
    "SU.snd_byte(packet[1])\n",
    "print(\"Packet[1]:\\tDecimal value: %d, Bin val: %s\" %(packet[1], f'{packet[1]:08b}'))"
   ]
  },
  {
   "cell_type": "code",
   "execution_count": 13,
   "metadata": {},
   "outputs": [
    {
     "name": "stdout",
     "output_type": "stream",
     "text": [
      "Packet[2]:\tDecimal value: 107, Bin val: 01101011\n"
     ]
    }
   ],
   "source": [
    "SU.snd_byte(packet[2])\n",
    "print(\"Packet[2]:\\tDecimal value: %d, Bin val: %s\" %(packet[2], f'{packet[2]:08b}'))"
   ]
  },
  {
   "cell_type": "code",
   "execution_count": 14,
   "metadata": {},
   "outputs": [
    {
     "name": "stdout",
     "output_type": "stream",
     "text": [
      "Packet[3]:\tDecimal value: 153, Bin val: 10011001\n"
     ]
    }
   ],
   "source": [
    "SU.snd_byte(packet[3])\n",
    "print(\"Packet[3]:\\tDecimal value: %d, Bin val: %s\" %(packet[3], f'{packet[3]:08b}'))"
   ]
  },
  {
   "cell_type": "code",
   "execution_count": 15,
   "metadata": {},
   "outputs": [
    {
     "name": "stdout",
     "output_type": "stream",
     "text": [
      "Packet[4]:\tDecimal value: 106, Bin val: 01101010\n"
     ]
    }
   ],
   "source": [
    "SU.snd_byte(packet[4])\n",
    "print(\"Packet[4]:\\tDecimal value: %d, Bin val: %s\" %(packet[4], f'{packet[4]:08b}'))"
   ]
  },
  {
   "cell_type": "code",
   "execution_count": 16,
   "metadata": {},
   "outputs": [
    {
     "name": "stdout",
     "output_type": "stream",
     "text": [
      "Packet[5]:\tDecimal value: 242, Bin val: 11110010\n"
     ]
    }
   ],
   "source": [
    "SU.snd_byte(packet[5])\n",
    "print(\"Packet[5]:\\tDecimal value: %d, Bin val: %s\" %(packet[5], f'{packet[5]:08b}'))"
   ]
  },
  {
   "cell_type": "code",
   "execution_count": 17,
   "metadata": {},
   "outputs": [
    {
     "name": "stdout",
     "output_type": "stream",
     "text": [
      "Packet[6]:\tDecimal value: 160, Bin val: 10100000\n"
     ]
    }
   ],
   "source": [
    "SU.snd_byte(packet[6])\n",
    "print(\"Packet[6]:\\tDecimal value: %d, Bin val: %s\" %(packet[6], f'{packet[6]:08b}'))"
   ]
  },
  {
   "cell_type": "code",
   "execution_count": 18,
   "metadata": {},
   "outputs": [
    {
     "name": "stdout",
     "output_type": "stream",
     "text": [
      "Packet[7]:\tDecimal value: 152, Bin val: 10011000\n"
     ]
    }
   ],
   "source": [
    "SU.snd_byte(packet[7])\n",
    "print(\"Packet[7]:\\tDecimal value: %d, Bin val: %s\" %(packet[7], f'{packet[7]:08b}'))"
   ]
  },
  {
   "cell_type": "markdown",
   "metadata": {},
   "source": [
    "## Read data"
   ]
  },
  {
   "cell_type": "code",
   "execution_count": 19,
   "metadata": {},
   "outputs": [
    {
     "name": "stdout",
     "output_type": "stream",
     "text": [
      "1\n",
      "3\n",
      "7\n",
      "15\n",
      "31\n",
      "63\n",
      "127\n",
      "255\n"
     ]
    }
   ],
   "source": [
    "return_val = SU.rcv_packet(8)"
   ]
  },
  {
   "cell_type": "markdown",
   "metadata": {},
   "source": [
    "## Check the Validity of UART communication!"
   ]
  }
 ],
 "metadata": {
  "kernelspec": {
   "display_name": "Python 3",
   "language": "python",
   "name": "python3"
  },
  "language_info": {
   "codemirror_mode": {
    "name": "ipython",
    "version": 3
   },
   "file_extension": ".py",
   "mimetype": "text/x-python",
   "name": "python",
   "nbconvert_exporter": "python",
   "pygments_lexer": "ipython3",
   "version": "3.7.5"
  }
 },
 "nbformat": 4,
 "nbformat_minor": 2
}
